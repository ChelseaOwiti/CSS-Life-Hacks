{
  "nbformat": 4,
  "nbformat_minor": 0,
  "metadata": {
    "colab": {
      "provenance": [],
      "authorship_tag": "ABX9TyNqTlO9NQyaoe0MKJ75BIf0",
      "include_colab_link": true
    },
    "kernelspec": {
      "name": "python3",
      "display_name": "Python 3"
    },
    "language_info": {
      "name": "python"
    }
  },
  "cells": [
    {
      "cell_type": "markdown",
      "metadata": {
        "id": "view-in-github",
        "colab_type": "text"
      },
      "source": [
        "<a href=\"https://colab.research.google.com/github/ChelseaOwiti/CSS-Life-Hacks/blob/main/CSS_Life_Hacks.ipynb\" target=\"_parent\"><img src=\"https://colab.research.google.com/assets/colab-badge.svg\" alt=\"Open In Colab\"/></a>"
      ]
    },
    {
      "cell_type": "markdown",
      "source": [
        "**Filling a background with an image**\n",
        "CSS only way type 1:\n",
        "\n"
      ],
      "metadata": {
        "id": "oK2BAeE-PZyF"
      }
    },
    {
      "cell_type": "code",
      "source": [
        "html { \n",
        "    background: url(images/bg1.png) no-repeat center center fixed; \n",
        "    -webkit-background-size: cover;\n",
        "    -moz-background-size: cover;\n",
        "    -o-background-size: cover;\n",
        "    background-size: cover;\n",
        "  }"
      ],
      "metadata": {
        "id": "NjBF2uHiPlDA"
      },
      "execution_count": null,
      "outputs": []
    }
  ]
}